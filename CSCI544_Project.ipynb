{
  "nbformat": 4,
  "nbformat_minor": 0,
  "metadata": {
    "colab": {
      "provenance": [],
      "gpuType": "T4",
      "authorship_tag": "ABX9TyN/QeqvfHfsnEnMZugxagma",
      "include_colab_link": true
    },
    "kernelspec": {
      "name": "python3",
      "display_name": "Python 3"
    },
    "language_info": {
      "name": "python"
    },
    "accelerator": "GPU"
  },
  "cells": [
    {
      "cell_type": "markdown",
      "metadata": {
        "id": "view-in-github",
        "colab_type": "text"
      },
      "source": [
        "<a href=\"https://colab.research.google.com/github/Likhita-usc/STELLA/blob/main/CSCI544_Project.ipynb\" target=\"_parent\"><img src=\"https://colab.research.google.com/assets/colab-badge.svg\" alt=\"Open In Colab\"/></a>"
      ]
    },
    {
      "cell_type": "code",
      "execution_count": null,
      "metadata": {
        "id": "mIHZYQEFr31a"
      },
      "outputs": [],
      "source": [
        "# Google Colab Notebook for NLP Project\n",
        "# GPU Has been changed and set to T4 GPU"
      ]
    },
    {
      "cell_type": "markdown",
      "source": [
        "## IMPORTS\n"
      ],
      "metadata": {
        "id": "QXYGQmg7sT9c"
      }
    },
    {
      "cell_type": "code",
      "source": [
        "import os\n",
        "import nltk\n",
        "import pandas as pd\n",
        "\n",
        "from nltk.corpus import stopwords\n",
        "from nltk.stem import WordNetLemmatizer\n",
        "from nltk.tokenize import word_tokenize\n",
        "\n",
        "from sklearn.metrics import precision_score, recall_score, f1_score, accuracy_score"
      ],
      "metadata": {
        "id": "eRE9_C4QsVHS"
      },
      "execution_count": null,
      "outputs": []
    },
    {
      "cell_type": "markdown",
      "source": [
        "## DATA PROCESSING"
      ],
      "metadata": {
        "id": "btRj11EisV3m"
      }
    },
    {
      "cell_type": "code",
      "source": [
        "# TODO. Implement Data Importing\n",
        "# inputData = pd.read_csv()\n",
        "# print(inputData.sample(3, random_state=10), \"\\n\")"
      ],
      "metadata": {
        "id": "t64RicT4sXFa"
      },
      "execution_count": null,
      "outputs": []
    },
    {
      "cell_type": "markdown",
      "source": [
        "## ANALYSIS SETUP\n"
      ],
      "metadata": {
        "id": "KpwpdtA7u2sm"
      }
    },
    {
      "cell_type": "code",
      "source": [
        "# TOD. Implement Creation of Sentiment Column\n",
        "# posSentiments = inputData[inputData['sentiment'] == 1]\n",
        "# negSentiments = inputData[inputData['sentiment'] == -1]\n",
        "# neutralSentiments = inputData[inputData['sentiment'] == 0]"
      ],
      "metadata": {
        "id": "qGbBxzB2u73g"
      },
      "execution_count": 1,
      "outputs": []
    }
  ]
}