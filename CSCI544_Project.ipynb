{
  "nbformat": 4,
  "nbformat_minor": 0,
  "metadata": {
    "colab": {
      "provenance": [],
      "gpuType": "T4",
      "authorship_tag": "ABX9TyNSmZyxh4zCjcSJsGRs+u1+",
      "include_colab_link": true
    },
    "kernelspec": {
      "name": "python3",
      "display_name": "Python 3"
    },
    "language_info": {
      "name": "python"
    },
    "accelerator": "GPU"
  },
  "cells": [
    {
      "cell_type": "markdown",
      "metadata": {
        "id": "view-in-github",
        "colab_type": "text"
      },
      "source": [
        "<a href=\"https://colab.research.google.com/github/Likhita-usc/STELLA/blob/main/CSCI544_Project.ipynb\" target=\"_parent\"><img src=\"https://colab.research.google.com/assets/colab-badge.svg\" alt=\"Open In Colab\"/></a>"
      ]
    },
    {
      "cell_type": "code",
      "execution_count": null,
      "metadata": {
        "id": "mIHZYQEFr31a"
      },
      "outputs": [],
      "source": [
        "# Google Colab Notebook for NLP Project\n",
        "# GPU Has been changed and set to T4 GPU"
      ]
    },
    {
      "cell_type": "markdown",
      "source": [
        "## IMPORTS\n"
      ],
      "metadata": {
        "id": "QXYGQmg7sT9c"
      }
    },
    {
      "cell_type": "code",
      "source": [],
      "metadata": {
        "id": "eRE9_C4QsVHS"
      },
      "execution_count": null,
      "outputs": []
    },
    {
      "cell_type": "markdown",
      "source": [
        "## DATA PROCESSING"
      ],
      "metadata": {
        "id": "btRj11EisV3m"
      }
    },
    {
      "cell_type": "code",
      "source": [],
      "metadata": {
        "id": "t64RicT4sXFa"
      },
      "execution_count": null,
      "outputs": []
    }
  ]
}